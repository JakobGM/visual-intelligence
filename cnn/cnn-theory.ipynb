{
 "cells": [
  {
   "cell_type": "markdown",
   "metadata": {
    "slideshow": {
     "slide_type": "slide"
    }
   },
   "source": [
    "# Deep Convolutional Neural Networks Theory (ConvNets)\n",
    "\n",
    "_Keywords: receptive field, input, kernel, zero-padding, strides, output._"
   ]
  },
  {
   "cell_type": "markdown",
   "metadata": {
    "slideshow": {
     "slide_type": "slide"
    }
   },
   "source": [
    "## Vectors vs. Matrices\n",
    "\n",
    "**Key difference** - Inputs to CNNs are 2-D arrays instead of linearly indexed vectors.\n",
    "\n",
    "![](https://www.jeremyjordan.me/content/images/2017/07/Screen-Shot-2017-07-26-at-4.26.01-PM.png)\n",
    "_Source: [jeremyjordan.me](https://www.jeremyjordan.me)_"
   ]
  },
  {
   "cell_type": "markdown",
   "metadata": {
    "slideshow": {
     "slide_type": "slide"
    }
   },
   "source": [
    "## Receptive Fields\n",
    "\n",
    "_Resource: [A Guide to Receptive Field Arithmetic for Convolutional Neural Networks](https://syncedreview.com/2017/05/11/a-guide-to-receptive-field-arithmetic-for-convolutional-neural-networks/)_\n",
    "\n",
    "<img src=\"https://miro.medium.com/max/2340/1*Fw-ehcNBR9byHtho-Rxbtw.gif\" width=300>"
   ]
  },
  {
   "cell_type": "code",
   "execution_count": 14,
   "metadata": {
    "slideshow": {
     "slide_type": "subslide"
    }
   },
   "outputs": [],
   "source": [
    "from tensorflow.keras import layers\n",
    "\n",
    "# Number of filters to learn\n",
    "NUMBER_OF_FILTERS = 1\n",
    "\n",
    "# Size of receptive field\n",
    "KERNEL_SIZE = (3, 3)\n",
    "\n",
    "convolutional_layer = layers.Conv2D(\n",
    "    filters=NUMBER_OF_FILTERS,\n",
    "    kernel_size=KERNEL_SIZE,\n",
    ")"
   ]
  },
  {
   "cell_type": "markdown",
   "metadata": {
    "slideshow": {
     "slide_type": "slide"
    }
   },
   "source": [
    "## Convolution\n",
    "\n",
    "The process of moving the receptive field over the image, weighting each pixel in order to form new pixel values.\n",
    "\n",
    "<img src=\"https://machinethink.net/images/vggnet-convolutional-neural-network-iphone/ConvolutionKernel@2x.png\" width=200>"
   ]
  },
  {
   "cell_type": "markdown",
   "metadata": {
    "slideshow": {
     "slide_type": "subslide"
    }
   },
   "source": [
    "## Kernel\n",
    "\n",
    "_A set of weights defined over the receptive field._\n",
    "\n",
    "![](https://mlnotebook.github.io/img/CNN/convExample.png)"
   ]
  },
  {
   "cell_type": "markdown",
   "metadata": {
    "slideshow": {
     "slide_type": "slide"
    }
   },
   "source": [
    "## Stride\n",
    "\n",
    "_Step size of the receptive field as it moves over the input image._\n",
    "\n",
    "<img src=\"https://miro.medium.com/max/1185/1*L4T6IXRalWoseBncjRr4wQ@2x.gif\" width=\"49%\"> <img src=\"https://miro.medium.com/max/1082/1*4wZt9G7W7CchZO-5rVxl5g@2x.gif\" width=\"49%\">"
   ]
  },
  {
   "cell_type": "markdown",
   "metadata": {
    "slideshow": {
     "slide_type": "slide"
    }
   },
   "source": [
    "## Padding\n",
    "\n",
    "![](https://miro.medium.com/max/1595/1*W2D564Gkad9lj3_6t9I2PA@2x.gif)"
   ]
  },
  {
   "cell_type": "markdown",
   "metadata": {
    "slideshow": {
     "slide_type": "slide"
    }
   },
   "source": [
    "## Examples"
   ]
  },
  {
   "cell_type": "markdown",
   "metadata": {
    "slideshow": {
     "slide_type": "fragment"
    }
   },
   "source": [
    "### Convolution with zero-padding and with stride of 1\n",
    "\n",
    "![](https://i0.wp.com/syncedreview.com/wp-content/uploads/2017/05/6.gif?resize=244%2C259&ssl=1)"
   ]
  },
  {
   "cell_type": "markdown",
   "metadata": {
    "slideshow": {
     "slide_type": "subslide"
    }
   },
   "source": [
    "### Convolution with zero-padding and with stride of 1\n",
    "\n",
    "![](https://i2.wp.com/syncedreview.com/wp-content/uploads/2017/05/7.gif?resize=395%2C449&ssl=1)"
   ]
  },
  {
   "cell_type": "markdown",
   "metadata": {
    "slideshow": {
     "slide_type": "subslide"
    }
   },
   "source": [
    "### Convolution with zero-padding and with stride of 2\n",
    "\n",
    "![](https://i2.wp.com/syncedreview.com/wp-content/uploads/2017/05/8.gif?resize=395%2C381&ssl=1)"
   ]
  },
  {
   "cell_type": "markdown",
   "metadata": {
    "slideshow": {
     "slide_type": "slide"
    }
   },
   "source": [
    "# CNN and the MNIST dataset (Numerical Example)\n",
    "\n",
    "Following the [Convolutional Neural Networks Tensorflow 2.0 tutorial](https://www.tensorflow.org/beta/tutorials/images/intro_to_cnns)."
   ]
  },
  {
   "cell_type": "code",
   "execution_count": 15,
   "metadata": {},
   "outputs": [],
   "source": [
    "import tensorflow as tf\n",
    "from tensorflow.keras import layers, models, datasets\n",
    "\n",
    "import matplotlib as mpl\n",
    "from matplotlib import pyplot as plt"
   ]
  },
  {
   "cell_type": "markdown",
   "metadata": {},
   "source": [
    "# Enable GPU support\n",
    "\n",
    "In order to enable GPU support on Tensorflow v2.0 in Jupyter Lab, follow [this guide](https://github.com/tensorflow/tensorflow/issues/24828#issuecomment-464910864)."
   ]
  },
  {
   "cell_type": "code",
   "execution_count": 2,
   "metadata": {},
   "outputs": [],
   "source": [
    "from tensorflow.compat.v1 import ConfigProto\n",
    "from tensorflow.compat.v1 import InteractiveSession\n",
    "\n",
    "config = ConfigProto()\n",
    "config.gpu_options.allow_growth = True\n",
    "session = InteractiveSession(config=config)"
   ]
  },
  {
   "cell_type": "markdown",
   "metadata": {},
   "source": [
    "## Importing the dataset"
   ]
  },
  {
   "cell_type": "code",
   "execution_count": 3,
   "metadata": {},
   "outputs": [],
   "source": [
    "(train_images, train_labels), (test_images, test_labels) = datasets.mnist.load_data()\n",
    "\n",
    "train_images = train_images.reshape((60000, 28, 28, 1))\n",
    "test_images = test_images.reshape((10000, 28, 28, 1))\n",
    "\n",
    "# Normalize pixel values to be between 0 and 1\n",
    "train_images, test_images = train_images / 255.0, test_images / 255.0"
   ]
  },
  {
   "cell_type": "code",
   "execution_count": 4,
   "metadata": {},
   "outputs": [
    {
     "name": "stdout",
     "output_type": "stream",
     "text": [
      "Model: \"sequential\"\n",
      "_________________________________________________________________\n",
      "Layer (type)                 Output Shape              Param #   \n",
      "=================================================================\n",
      "conv2d (Conv2D)              (None, 26, 26, 32)        320       \n",
      "_________________________________________________________________\n",
      "max_pooling2d (MaxPooling2D) (None, 13, 13, 32)        0         \n",
      "_________________________________________________________________\n",
      "conv2d_1 (Conv2D)            (None, 11, 11, 64)        18496     \n",
      "_________________________________________________________________\n",
      "max_pooling2d_1 (MaxPooling2 (None, 5, 5, 64)          0         \n",
      "_________________________________________________________________\n",
      "conv2d_2 (Conv2D)            (None, 3, 3, 64)          36928     \n",
      "_________________________________________________________________\n",
      "flatten (Flatten)            (None, 576)               0         \n",
      "_________________________________________________________________\n",
      "dense (Dense)                (None, 64)                36928     \n",
      "_________________________________________________________________\n",
      "dense_1 (Dense)              (None, 10)                650       \n",
      "=================================================================\n",
      "Total params: 93,322\n",
      "Trainable params: 93,322\n",
      "Non-trainable params: 0\n",
      "_________________________________________________________________\n"
     ]
    }
   ],
   "source": [
    "model = models.Sequential()\n",
    "model.add(layers.Conv2D(32, (3, 3), activation='relu', input_shape=(28, 28, 1)))\n",
    "model.add(layers.MaxPooling2D((2, 2)))\n",
    "model.add(layers.Conv2D(64, (3, 3), activation='relu'))\n",
    "model.add(layers.MaxPooling2D((2, 2)))\n",
    "model.add(layers.Conv2D(64, (3, 3), activation='relu'))\n",
    "\n",
    "# Dense layers\n",
    "model.add(layers.Flatten())\n",
    "model.add(layers.Dense(64, activation='relu'))\n",
    "model.add(layers.Dense(10, activation='softmax'))\n",
    "model.summary()"
   ]
  },
  {
   "cell_type": "code",
   "execution_count": 12,
   "metadata": {},
   "outputs": [],
   "source": [
    "model.compile(\n",
    "    optimizer=\"adam\",\n",
    "    loss=\"sparse_categorical_crossentropy\",\n",
    "    metrics=[\"accuracy\"],\n",
    ")"
   ]
  },
  {
   "cell_type": "code",
   "execution_count": 18,
   "metadata": {},
   "outputs": [
    {
     "name": "stdout",
     "output_type": "stream",
     "text": [
      "Train on 54000 samples, validate on 6000 samples\n",
      "Epoch 1/10\n",
      "54000/54000 [==============================] - 2s 29us/sample - loss: 1.9417e-04 - accuracy: 0.9999 - val_loss: 0.0034 - val_accuracy: 0.9995\n",
      "Epoch 2/10\n",
      "54000/54000 [==============================] - 2s 28us/sample - loss: 3.4221e-05 - accuracy: 1.0000 - val_loss: 0.0049 - val_accuracy: 0.9990\n",
      "Epoch 3/10\n",
      "54000/54000 [==============================] - 2s 28us/sample - loss: 0.0061 - accuracy: 0.9986 - val_loss: 0.0089 - val_accuracy: 0.9980\n",
      "Epoch 4/10\n",
      "54000/54000 [==============================] - 2s 28us/sample - loss: 0.0030 - accuracy: 0.9991 - val_loss: 0.0082 - val_accuracy: 0.9982\n",
      "Epoch 5/10\n",
      "54000/54000 [==============================] - 2s 28us/sample - loss: 5.8670e-04 - accuracy: 0.9998 - val_loss: 0.0054 - val_accuracy: 0.9990\n",
      "Epoch 6/10\n",
      "54000/54000 [==============================] - 2s 28us/sample - loss: 2.4302e-05 - accuracy: 1.0000 - val_loss: 0.0042 - val_accuracy: 0.9990\n",
      "Epoch 7/10\n",
      "54000/54000 [==============================] - 2s 29us/sample - loss: 9.7191e-06 - accuracy: 1.0000 - val_loss: 0.0042 - val_accuracy: 0.9990\n",
      "Epoch 8/10\n",
      "54000/54000 [==============================] - 2s 29us/sample - loss: 6.9085e-06 - accuracy: 1.0000 - val_loss: 0.0042 - val_accuracy: 0.9990\n",
      "Epoch 9/10\n",
      "54000/54000 [==============================] - 2s 29us/sample - loss: 5.0973e-06 - accuracy: 1.0000 - val_loss: 0.0041 - val_accuracy: 0.9990\n",
      "Epoch 10/10\n",
      "54000/54000 [==============================] - 2s 29us/sample - loss: 3.8523e-06 - accuracy: 1.0000 - val_loss: 0.0041 - val_accuracy: 0.9990\n"
     ]
    }
   ],
   "source": [
    "history = model.fit(train_images, train_labels, epochs=10, batch_size=100, validation_split=0.1)"
   ]
  },
  {
   "cell_type": "code",
   "execution_count": 14,
   "metadata": {},
   "outputs": [
    {
     "data": {
      "text/plain": [
       "[0.04461154832937404, 0.993]"
      ]
     },
     "execution_count": 14,
     "metadata": {},
     "output_type": "execute_result"
    }
   ],
   "source": [
    "model.evaluate(test_images, test_labels, verbose=False)"
   ]
  },
  {
   "cell_type": "code",
   "execution_count": 17,
   "metadata": {},
   "outputs": [
    {
     "name": "stdout",
     "output_type": "stream",
     "text": [
      "GPU Available:  True\n"
     ]
    }
   ],
   "source": [
    "print(\"GPU Available: \", tf.test.is_gpu_available())"
   ]
  },
  {
   "cell_type": "code",
   "execution_count": 20,
   "metadata": {},
   "outputs": [
    {
     "data": {
      "text/plain": [
       "[<matplotlib.lines.Line2D at 0x7efb18171890>]"
      ]
     },
     "execution_count": 20,
     "metadata": {},
     "output_type": "execute_result"
    },
    {
     "data": {
      "image/png": "[encoded data removed]",
      "text/plain": [
       "<Figure size 432x288 with 1 Axes>"
      ]
     },
     "metadata": {
      "needs_background": "light"
     },
     "output_type": "display_data"
    }
   ],
   "source": [
    "plt.plot(history.history[\"accuracy\"])"
   ]
  },
  {
   "cell_type": "code",
   "execution_count": 21,
   "metadata": {},
   "outputs": [
    {
     "data": {
      "text/plain": [
       "[<matplotlib.lines.Line2D at 0x7efb18160890>]"
      ]
     },
     "execution_count": 21,
     "metadata": {},
     "output_type": "execute_result"
    },
    {
     "data": {
      "image/png": "[encoded data removed]",
      "text/plain": [
       "<Figure size 432x288 with 1 Axes>"
      ]
     },
     "metadata": {
      "needs_background": "light"
     },
     "output_type": "display_data"
    }
   ],
   "source": [
    "plt.plot(history.history[\"val_accuracy\"])"
   ]
  }
 ],
 "metadata": {
  "kernelspec": {
   "display_name": "Python 3",
   "language": "python",
   "name": "python3"
  },
  "language_info": {
   "codemirror_mode": {
    "name": "ipython",
    "version": 3
   },
   "file_extension": ".py",
   "mimetype": "text/x-python",
   "name": "python",
   "nbconvert_exporter": "python",
   "pygments_lexer": "ipython3",
   "version": "3.7.4"
  }
 },
 "nbformat": 4,
 "nbformat_minor": 4
}
