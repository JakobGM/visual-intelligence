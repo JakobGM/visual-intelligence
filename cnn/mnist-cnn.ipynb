{
 "cells": [
  {
   "cell_type": "code",
   "execution_count": 43,
   "metadata": {},
   "outputs": [],
   "source": [
    "import tensorflow as tf\n",
    "import numpy as np\n",
    "from tensorflow.keras import datasets, layers, models\n",
    "import matplotlib.pyplot as plt\n"
   ]
  },
  {
   "cell_type": "code",
   "execution_count": 54,
   "metadata": {},
   "outputs": [],
   "source": [
    "class EarlyStoppingAtMinLoss(tf.keras.callbacks.Callback):\n",
    "  \"\"\"Stop training when the loss is at its min, i.e. the loss stops decreasing.\n",
    "\n",
    "  Arguments:\n",
    "      patience: Number of epochs to wait after min has been hit. After this\n",
    "      number of no improvement, training stops.\n",
    "  \"\"\"\n",
    "\n",
    "  def __init__(self, patience=3):\n",
    "    super(EarlyStoppingAtMinLoss, self).__init__()\n",
    "\n",
    "    self.patience = patience\n",
    "\n",
    "    # best_weights to store the weights at which the minimum loss occurs.\n",
    "    self.best_weights = None\n",
    "\n",
    "  def on_train_begin(self, logs=None):\n",
    "    # The number of epoch it has waited when loss is no longer minimum.\n",
    "    self.wait = 0\n",
    "    # The epoch the training stops at.\n",
    "    self.stopped_epoch = 0\n",
    "    # Initialize the best as infinity.\n",
    "    self.best = np.Inf\n",
    "\n",
    "  def on_epoch_end(self, epoch, logs=None):\n",
    "    current = logs.get('val_loss')\n",
    "    if np.less(current, self.best):\n",
    "      self.best = current\n",
    "      self.wait = 0\n",
    "      # Record the best weights if current results is better (less).\n",
    "      self.best_weights = self.model.get_weights()\n",
    "    else:\n",
    "      self.wait += 1\n",
    "      if self.wait >= self.patience:\n",
    "        self.stopped_epoch = epoch\n",
    "        self.model.stop_training = True\n",
    "        print('Restoring model weights from the end of the best epoch.')\n",
    "        self.model.set_weights(self.best_weights)\n",
    "\n",
    "  def on_train_end(self, logs=None):\n",
    "    if self.stopped_epoch > 0:\n",
    "      print('Epoch %05d: early stopping' % (self.stopped_epoch + 1))"
   ]
  },
  {
   "cell_type": "code",
   "execution_count": 55,
   "metadata": {},
   "outputs": [],
   "source": [
    "def cnn_1_layer() : \n",
    "    model = models.Sequential()\n",
    "    model.add(layers.Conv2D(filters = 32, kernel_size = (3,3), activation  = 'relu', input_shape = (28, 28, 1)))\n",
    "    model.add(layers.Flatten())\n",
    "    model.add(layers.Dense(10,activation = 'softmax'))\n",
    "    model.summary()\n",
    "    model.compile(optimizer = 'adam',\n",
    "                  loss='sparse_categorical_crossentropy',\n",
    "                  metrics=['accuracy'],\n",
    "                  validation_split = 0.2)\n",
    "    return model"
   ]
  },
  {
   "cell_type": "code",
   "execution_count": 56,
   "metadata": {},
   "outputs": [],
   "source": [
    "def cnn_2_layer() : \n",
    "    model = models.Sequential()\n",
    "    model.add(layers.Conv2D(filters = 32, kernel_size = (3,3), activation  = 'relu', input_shape = (28, 28, 1)))\n",
    "    model.add(layers.MaxPooling2D((2, 2)))\n",
    "    model.add(layers.Conv2D(64, (3, 3), activation='relu'))\n",
    "    model.add(layers.Flatten())\n",
    "    model.add(layers.Dense(10,activation = 'softmax'))\n",
    "    model.summary()\n",
    "    model.compile(optimizer = 'adam',\n",
    "                  loss='sparse_categorical_crossentropy',\n",
    "                  metrics=['accuracy'],\n",
    "                  validation_split = 0.2)\n",
    "    return model"
   ]
  },
  {
   "cell_type": "code",
   "execution_count": 57,
   "metadata": {},
   "outputs": [],
   "source": [
    "def cnn_3_layer() : \n",
    "    model = models.Sequential()\n",
    "    model.add(layers.Conv2D(filters = 32, kernel_size = (3,3), activation  = 'relu', input_shape = (28, 28, 1)))\n",
    "    model.add(layers.MaxPooling2D((2, 2)))\n",
    "    model.add(layers.Conv2D(64, (3, 3), activation='relu'))\n",
    "    model.add(layers.MaxPooling2D((2, 2)))\n",
    "    model.add(layers.Conv2D(64, (3, 3), activation='relu'))\n",
    "    model.add(layers.Flatten())\n",
    "    model.add(layers.Dense(10,activation = 'softmax'))\n",
    "    model.summary()\n",
    "    model.compile(optimizer = 'adam',\n",
    "                  loss='sparse_categorical_crossentropy',\n",
    "                  metrics=['accuracy'],\n",
    "                  validation_split = 0.2)\n",
    "    return model"
   ]
  },
  {
   "cell_type": "code",
   "execution_count": 58,
   "metadata": {},
   "outputs": [],
   "source": [
    "def cnn_full() : \n",
    "    model = models.Sequential()\n",
    "    model.add(layers.Conv2D(filters = 32, kernel_size = (3,3), activation  = 'relu', input_shape = (28, 28, 1)))\n",
    "    model.add(layers.MaxPooling2D((2, 2)))\n",
    "    model.add(layers.Conv2D(64, (3, 3), activation='relu'))\n",
    "    model.add(layers.MaxPooling2D((2, 2)))\n",
    "    model.add(layers.Conv2D(64, (3, 3), activation='relu'))\n",
    "    model.add(layers.Flatten())\n",
    "    model.add(layers.Dense(64, activation='relu'))\n",
    "    model.add(layers.Dense(10,activation = 'softmax'))\n",
    "    model.summary()\n",
    "    model.compile(optimizer = 'adam',\n",
    "                  loss='sparse_categorical_crossentropy',\n",
    "                  metrics=['accuracy'],\n",
    "                  validation_split = 0.2)\n",
    "    return model"
   ]
  },
  {
   "cell_type": "code",
   "execution_count": 59,
   "metadata": {},
   "outputs": [],
   "source": [
    "\n",
    "(train_images, train_labels), (test_images, test_labels) = datasets.mnist.load_data()\n",
    "\n",
    "train_images = train_images.reshape((60000, 28, 28, 1))\n",
    "test_images = test_images.reshape((10000, 28, 28, 1))\n",
    "\n",
    "# Normalize pixel values to be between 0 and 1\n",
    "train_images, test_images = train_images / 255.0, test_images / 255.0\n"
   ]
  },
  {
   "cell_type": "code",
   "execution_count": 60,
   "metadata": {},
   "outputs": [
    {
     "name": "stdout",
     "output_type": "stream",
     "text": [
      "Model: \"sequential_6\"\n",
      "_________________________________________________________________\n",
      "Layer (type)                 Output Shape              Param #   \n",
      "=================================================================\n",
      "conv2d_11 (Conv2D)           (None, 26, 26, 32)        320       \n",
      "_________________________________________________________________\n",
      "flatten_5 (Flatten)          (None, 21632)             0         \n",
      "_________________________________________________________________\n",
      "dense_8 (Dense)              (None, 10)                216330    \n",
      "=================================================================\n",
      "Total params: 216,650\n",
      "Trainable params: 216,650\n",
      "Non-trainable params: 0\n",
      "_________________________________________________________________\n"
     ]
    }
   ],
   "source": [
    "model = cnn_1_layer()"
   ]
  },
  {
   "cell_type": "code",
   "execution_count": 61,
   "metadata": {},
   "outputs": [
    {
     "name": "stdout",
     "output_type": "stream",
     "text": [
      "Train on 40199 samples, validate on 19801 samples\n",
      "Epoch 1/15\n",
      "40199/40199 [==============================] - 4s 101us/sample - loss: 0.3077 - accuracy: 0.9139 - val_loss: 0.1460 - val_accuracy: 0.9611\n",
      "Epoch 2/15\n",
      "40199/40199 [==============================] - 4s 98us/sample - loss: 0.1046 - accuracy: 0.9708 - val_loss: 0.1025 - val_accuracy: 0.9699\n",
      "Epoch 3/15\n",
      "40199/40199 [==============================] - 4s 98us/sample - loss: 0.0680 - accuracy: 0.9808 - val_loss: 0.0824 - val_accuracy: 0.9760\n",
      "Epoch 4/15\n",
      "40199/40199 [==============================] - 4s 99us/sample - loss: 0.0499 - accuracy: 0.9863 - val_loss: 0.0796 - val_accuracy: 0.9765\n",
      "Epoch 5/15\n",
      "40199/40199 [==============================] - 4s 98us/sample - loss: 0.0394 - accuracy: 0.9884 - val_loss: 0.0810 - val_accuracy: 0.9770\n",
      "Epoch 6/15\n",
      "40199/40199 [==============================] - 4s 98us/sample - loss: 0.0314 - accuracy: 0.9914 - val_loss: 0.0806 - val_accuracy: 0.9767\n",
      "Epoch 7/15\n",
      "39900/40199 [============================>.] - ETA: 0s - loss: 0.0252 - accuracy: 0.9935Restoring model weights from the end of the best epoch.\n",
      "40199/40199 [==============================] - 4s 98us/sample - loss: 0.0255 - accuracy: 0.9934 - val_loss: 0.0825 - val_accuracy: 0.9762\n",
      "Epoch 00007: early stopping\n"
     ]
    }
   ],
   "source": [
    "history = model.fit(train_images, \n",
    "                    train_labels, \n",
    "                    validation_split=0.33, \n",
    "                    batch_size=100, \n",
    "                    epochs=15,\n",
    "                    callbacks = [EarlyStoppingAtMinLoss()])"
   ]
  },
  {
   "cell_type": "code",
   "execution_count": 62,
   "metadata": {},
   "outputs": [
    {
     "name": "stdout",
     "output_type": "stream",
     "text": [
      "dict_keys(['loss', 'accuracy', 'val_loss', 'val_accuracy'])\n"
     ]
    }
   ],
   "source": [
    "print(history.history.keys())"
   ]
  },
  {
   "cell_type": "code",
   "execution_count": 63,
   "metadata": {},
   "outputs": [
    {
     "data": {
      "image/png": "[encoded data removed]",
      "text/plain": [
       "<Figure size 432x288 with 1 Axes>"
      ]
     },
     "metadata": {
      "needs_background": "light"
     },
     "output_type": "display_data"
    }
   ],
   "source": [
    "plt.plot(history.history['accuracy'])\n",
    "plt.plot(history.history['val_accuracy'])\n",
    "plt.title('model accuracy')\n",
    "plt.ylabel('accuracy')\n",
    "plt.xlabel('epoch')\n",
    "plt.legend(['train', 'validation'], loc='lower right')\n",
    "plt.show()"
   ]
  },
  {
   "cell_type": "code",
   "execution_count": 64,
   "metadata": {},
   "outputs": [
    {
     "data": {
      "image/png": "[encoded data removed]",
      "text/plain": [
       "<Figure size 432x288 with 1 Axes>"
      ]
     },
     "metadata": {
      "needs_background": "light"
     },
     "output_type": "display_data"
    }
   ],
   "source": [
    "plt.plot(history.history['loss'])\n",
    "plt.plot(history.history['val_loss'])\n",
    "plt.title('model loss')\n",
    "plt.ylabel('loss')\n",
    "plt.xlabel('epoch')\n",
    "plt.legend(['train', 'validation'], loc='upper right')\n",
    "plt.show()"
   ]
  },
  {
   "cell_type": "code",
   "execution_count": null,
   "metadata": {},
   "outputs": [],
   "source": []
  }
 ],
 "metadata": {
  "kernelspec": {
   "display_name": "Python 3",
   "language": "python",
   "name": "python3"
  },
  "language_info": {
   "codemirror_mode": {
    "name": "ipython",
    "version": 3
   },
   "file_extension": ".py",
   "mimetype": "text/x-python",
   "name": "python",
   "nbconvert_exporter": "python",
   "pygments_lexer": "ipython3",
   "version": "3.7.4"
  }
 },
 "nbformat": 4,
 "nbformat_minor": 4
}
